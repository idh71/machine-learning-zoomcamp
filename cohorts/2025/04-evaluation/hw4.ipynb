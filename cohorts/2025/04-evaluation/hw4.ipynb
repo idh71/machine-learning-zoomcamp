{
 "cells": [
  {
   "cell_type": "markdown",
   "id": "066d4455-de4b-48c3-8b99-29ee824611ed",
   "metadata": {},
   "source": [
    "## Homework\n",
    "\n",
    "> Note: sometimes your answer doesn't match one of \n",
    "> the options exactly. That's fine. \n",
    "> Select the option that's closest to your solution.\n",
    "\n",
    "\n",
    "In this homework, we will use the lead scoring dataset Bank Marketing dataset. Download it from [here](https://raw.githubusercontent.com/alexeygrigorev/datasets/master/course_lead_scoring.csv).\n",
    "\n",
    "\n",
    "In this dataset our desired target for classification task will be `converted` variable - has the client signed up to the platform or not. \n",
    "\n",
    "### Data preparation\n",
    "\n",
    "* Check if the missing values are presented in the features.\n",
    "* If there are missing values:\n",
    "    * For caterogiral features, replace them with 'NA'\n",
    "    * For numerical features, replace with with 0.0 \n",
    "\n",
    "\n",
    "Split the data into 3 parts: train/validation/test with 60%/20%/20% distribution. Use `train_test_split` function for that with `random_state=1`\n"
   ]
  },
  {
   "cell_type": "code",
   "execution_count": 1,
   "id": "19a67ecf-4f37-4be1-a2cd-a83e621f1f10",
   "metadata": {},
   "outputs": [
    {
     "name": "stdout",
     "output_type": "stream",
     "text": [
      "--2025-10-17 06:28:07--  https://raw.githubusercontent.com/alexeygrigorev/datasets/master/course_lead_scoring.csv\n",
      "Resolving raw.githubusercontent.com (raw.githubusercontent.com)... 2606:50c0:8000::154, 2606:50c0:8001::154, 2606:50c0:8003::154, ...\n",
      "Connecting to raw.githubusercontent.com (raw.githubusercontent.com)|2606:50c0:8000::154|:443... connected.\n",
      "HTTP request sent, awaiting response... 200 OK\n",
      "Length: 80876 (79K) [text/plain]\n",
      "Saving to: ‘course_lead_scoring.csv’\n",
      "\n",
      "course_lead_scoring 100%[===================>]  78.98K  --.-KB/s    in 0.03s   \n",
      "\n",
      "2025-10-17 06:28:08 (2.31 MB/s) - ‘course_lead_scoring.csv’ saved [80876/80876]\n",
      "\n"
     ]
    }
   ],
   "source": [
    "!wget https://raw.githubusercontent.com/alexeygrigorev/datasets/master/course_lead_scoring.csv"
   ]
  },
  {
   "cell_type": "code",
   "execution_count": 12,
   "id": "89a16c78-fe40-41d7-8b53-1aea6a7ba9d4",
   "metadata": {},
   "outputs": [],
   "source": [
    "import numpy as np\n",
    "import pandas as pd\n",
    "from sklearn.model_selection import train_test_split"
   ]
  },
  {
   "cell_type": "code",
   "execution_count": 19,
   "id": "b00e4c9d-e719-4188-a891-8416b990e588",
   "metadata": {},
   "outputs": [],
   "source": [
    "target = 'converted'"
   ]
  },
  {
   "cell_type": "code",
   "execution_count": 20,
   "id": "e30cf4a7-ac03-49b7-bab1-9035cf4a000a",
   "metadata": {},
   "outputs": [],
   "source": [
    "df = pd.read_csv('course_lead_scoring.csv')"
   ]
  },
  {
   "cell_type": "code",
   "execution_count": 21,
   "id": "ded423cf-9fd6-4f20-a8d9-295d88342fb3",
   "metadata": {},
   "outputs": [
    {
     "data": {
      "text/html": [
       "<div>\n",
       "<style scoped>\n",
       "    .dataframe tbody tr th:only-of-type {\n",
       "        vertical-align: middle;\n",
       "    }\n",
       "\n",
       "    .dataframe tbody tr th {\n",
       "        vertical-align: top;\n",
       "    }\n",
       "\n",
       "    .dataframe thead th {\n",
       "        text-align: right;\n",
       "    }\n",
       "</style>\n",
       "<table border=\"1\" class=\"dataframe\">\n",
       "  <thead>\n",
       "    <tr style=\"text-align: right;\">\n",
       "      <th></th>\n",
       "      <th>lead_source</th>\n",
       "      <th>industry</th>\n",
       "      <th>number_of_courses_viewed</th>\n",
       "      <th>annual_income</th>\n",
       "      <th>employment_status</th>\n",
       "      <th>location</th>\n",
       "      <th>interaction_count</th>\n",
       "      <th>lead_score</th>\n",
       "      <th>converted</th>\n",
       "    </tr>\n",
       "  </thead>\n",
       "  <tbody>\n",
       "    <tr>\n",
       "      <th>0</th>\n",
       "      <td>paid_ads</td>\n",
       "      <td>NaN</td>\n",
       "      <td>1</td>\n",
       "      <td>79450.0</td>\n",
       "      <td>unemployed</td>\n",
       "      <td>south_america</td>\n",
       "      <td>4</td>\n",
       "      <td>0.94</td>\n",
       "      <td>1</td>\n",
       "    </tr>\n",
       "    <tr>\n",
       "      <th>1</th>\n",
       "      <td>social_media</td>\n",
       "      <td>retail</td>\n",
       "      <td>1</td>\n",
       "      <td>46992.0</td>\n",
       "      <td>employed</td>\n",
       "      <td>south_america</td>\n",
       "      <td>1</td>\n",
       "      <td>0.80</td>\n",
       "      <td>0</td>\n",
       "    </tr>\n",
       "    <tr>\n",
       "      <th>2</th>\n",
       "      <td>events</td>\n",
       "      <td>healthcare</td>\n",
       "      <td>5</td>\n",
       "      <td>78796.0</td>\n",
       "      <td>unemployed</td>\n",
       "      <td>australia</td>\n",
       "      <td>3</td>\n",
       "      <td>0.69</td>\n",
       "      <td>1</td>\n",
       "    </tr>\n",
       "    <tr>\n",
       "      <th>3</th>\n",
       "      <td>paid_ads</td>\n",
       "      <td>retail</td>\n",
       "      <td>2</td>\n",
       "      <td>83843.0</td>\n",
       "      <td>NaN</td>\n",
       "      <td>australia</td>\n",
       "      <td>1</td>\n",
       "      <td>0.87</td>\n",
       "      <td>0</td>\n",
       "    </tr>\n",
       "    <tr>\n",
       "      <th>4</th>\n",
       "      <td>referral</td>\n",
       "      <td>education</td>\n",
       "      <td>3</td>\n",
       "      <td>85012.0</td>\n",
       "      <td>self_employed</td>\n",
       "      <td>europe</td>\n",
       "      <td>3</td>\n",
       "      <td>0.62</td>\n",
       "      <td>1</td>\n",
       "    </tr>\n",
       "  </tbody>\n",
       "</table>\n",
       "</div>"
      ],
      "text/plain": [
       "    lead_source    industry  number_of_courses_viewed  annual_income  \\\n",
       "0      paid_ads         NaN                         1        79450.0   \n",
       "1  social_media      retail                         1        46992.0   \n",
       "2        events  healthcare                         5        78796.0   \n",
       "3      paid_ads      retail                         2        83843.0   \n",
       "4      referral   education                         3        85012.0   \n",
       "\n",
       "  employment_status       location  interaction_count  lead_score  converted  \n",
       "0        unemployed  south_america                  4        0.94          1  \n",
       "1          employed  south_america                  1        0.80          0  \n",
       "2        unemployed      australia                  3        0.69          1  \n",
       "3               NaN      australia                  1        0.87          0  \n",
       "4     self_employed         europe                  3        0.62          1  "
      ]
     },
     "execution_count": 21,
     "metadata": {},
     "output_type": "execute_result"
    }
   ],
   "source": [
    "df.head()"
   ]
  },
  {
   "cell_type": "code",
   "execution_count": 22,
   "id": "3609b64f-236b-45f6-848c-33696c70a22f",
   "metadata": {},
   "outputs": [
    {
     "data": {
      "text/plain": [
       "lead_source                 128\n",
       "industry                    134\n",
       "number_of_courses_viewed      0\n",
       "annual_income               181\n",
       "employment_status           100\n",
       "location                     63\n",
       "interaction_count             0\n",
       "lead_score                    0\n",
       "converted                     0\n",
       "dtype: int64"
      ]
     },
     "execution_count": 22,
     "metadata": {},
     "output_type": "execute_result"
    }
   ],
   "source": [
    "df.isnull().sum()"
   ]
  },
  {
   "cell_type": "code",
   "execution_count": 23,
   "id": "5d33ee64-8665-4c45-be56-6a6c83bed0ff",
   "metadata": {},
   "outputs": [
    {
     "data": {
      "text/plain": [
       "['lead_source', 'industry', 'employment_status', 'location']"
      ]
     },
     "execution_count": 23,
     "metadata": {},
     "output_type": "execute_result"
    }
   ],
   "source": [
    "categorical = [c for c in df.columns if df[c].dtype == 'object']\n",
    "categorical"
   ]
  },
  {
   "cell_type": "code",
   "execution_count": 24,
   "id": "ea18fd08-6b61-45a6-9e12-bb6636988629",
   "metadata": {},
   "outputs": [
    {
     "data": {
      "text/plain": [
       "['number_of_courses_viewed',\n",
       " 'annual_income',\n",
       " 'interaction_count',\n",
       " 'lead_score',\n",
       " 'converted']"
      ]
     },
     "execution_count": 24,
     "metadata": {},
     "output_type": "execute_result"
    }
   ],
   "source": [
    "numerical = [c for c in df.columns if df[c].dtype != 'object']\n",
    "numerical"
   ]
  },
  {
   "cell_type": "code",
   "execution_count": 25,
   "id": "1b59ff2c-c29e-49ef-b995-d460380372d3",
   "metadata": {},
   "outputs": [
    {
     "data": {
      "text/plain": [
       "['number_of_courses_viewed',\n",
       " 'annual_income',\n",
       " 'interaction_count',\n",
       " 'lead_score']"
      ]
     },
     "execution_count": 25,
     "metadata": {},
     "output_type": "execute_result"
    }
   ],
   "source": [
    "#removing the target from numerical\n",
    "numerical = [c for c in numerical if c != target]\n",
    "numerical"
   ]
  },
  {
   "cell_type": "code",
   "execution_count": 26,
   "id": "985ad69e-5bc0-4090-bc2b-93cf649865d8",
   "metadata": {},
   "outputs": [],
   "source": [
    "df[categorical] = df[categorical].fillna( 'NA')\n",
    "df[numerical] = df[numerical].fillna(0.0)"
   ]
  },
  {
   "cell_type": "code",
   "execution_count": 27,
   "id": "f31ff6f5-af75-4d0e-9417-eec7f718a2b4",
   "metadata": {},
   "outputs": [
    {
     "data": {
      "text/plain": [
       "lead_source                 0\n",
       "industry                    0\n",
       "number_of_courses_viewed    0\n",
       "annual_income               0\n",
       "employment_status           0\n",
       "location                    0\n",
       "interaction_count           0\n",
       "lead_score                  0\n",
       "converted                   0\n",
       "dtype: int64"
      ]
     },
     "execution_count": 27,
     "metadata": {},
     "output_type": "execute_result"
    }
   ],
   "source": [
    "df.isna().sum()"
   ]
  },
  {
   "cell_type": "code",
   "execution_count": 28,
   "id": "5c88ef62-e7f2-4327-bbb6-b166829d2950",
   "metadata": {},
   "outputs": [],
   "source": [
    "df_train_full, df_test, y_train_full, y_test = train_test_split(df, df[target].values, test_size=0.2, random_state=1)"
   ]
  },
  {
   "cell_type": "code",
   "execution_count": 29,
   "id": "1416d6c0-ab61-46a4-9ea8-091890720bee",
   "metadata": {},
   "outputs": [],
   "source": [
    "df_train, df_val, y_train, y_val = train_test_split(df_train_full, y_train_full, test_size=0.25, random_state=1)"
   ]
  },
  {
   "cell_type": "code",
   "execution_count": 30,
   "id": "c41ace26-d309-4cb9-8e06-aee5f2b4cf06",
   "metadata": {},
   "outputs": [
    {
     "data": {
      "text/plain": [
       "(876, 876, 293, 293)"
      ]
     },
     "execution_count": 30,
     "metadata": {},
     "output_type": "execute_result"
    }
   ],
   "source": [
    "len(df_train), len(y_train), len(df_val), len(y_val)"
   ]
  },
  {
   "cell_type": "code",
   "execution_count": 31,
   "id": "cc9fd7db-eafc-4982-b36c-445cc01db5d0",
   "metadata": {},
   "outputs": [],
   "source": [
    "del(df_train_full[target])\n",
    "del(df_train[target])\n",
    "del(df_val[target])"
   ]
  },
  {
   "cell_type": "code",
   "execution_count": 32,
   "id": "6bf91962-ac32-4eef-81fe-03447abf32da",
   "metadata": {},
   "outputs": [
    {
     "data": {
      "text/html": [
       "<div>\n",
       "<style scoped>\n",
       "    .dataframe tbody tr th:only-of-type {\n",
       "        vertical-align: middle;\n",
       "    }\n",
       "\n",
       "    .dataframe tbody tr th {\n",
       "        vertical-align: top;\n",
       "    }\n",
       "\n",
       "    .dataframe thead th {\n",
       "        text-align: right;\n",
       "    }\n",
       "</style>\n",
       "<table border=\"1\" class=\"dataframe\">\n",
       "  <thead>\n",
       "    <tr style=\"text-align: right;\">\n",
       "      <th></th>\n",
       "      <th>lead_source</th>\n",
       "      <th>industry</th>\n",
       "      <th>number_of_courses_viewed</th>\n",
       "      <th>annual_income</th>\n",
       "      <th>employment_status</th>\n",
       "      <th>location</th>\n",
       "      <th>interaction_count</th>\n",
       "      <th>lead_score</th>\n",
       "    </tr>\n",
       "  </thead>\n",
       "  <tbody>\n",
       "    <tr>\n",
       "      <th>462</th>\n",
       "      <td>events</td>\n",
       "      <td>manufacturing</td>\n",
       "      <td>2</td>\n",
       "      <td>95543.0</td>\n",
       "      <td>unemployed</td>\n",
       "      <td>europe</td>\n",
       "      <td>3</td>\n",
       "      <td>0.78</td>\n",
       "    </tr>\n",
       "    <tr>\n",
       "      <th>135</th>\n",
       "      <td>referral</td>\n",
       "      <td>NA</td>\n",
       "      <td>1</td>\n",
       "      <td>54924.0</td>\n",
       "      <td>student</td>\n",
       "      <td>south_america</td>\n",
       "      <td>6</td>\n",
       "      <td>0.39</td>\n",
       "    </tr>\n",
       "    <tr>\n",
       "      <th>117</th>\n",
       "      <td>organic_search</td>\n",
       "      <td>healthcare</td>\n",
       "      <td>2</td>\n",
       "      <td>77352.0</td>\n",
       "      <td>unemployed</td>\n",
       "      <td>europe</td>\n",
       "      <td>2</td>\n",
       "      <td>0.22</td>\n",
       "    </tr>\n",
       "    <tr>\n",
       "      <th>1051</th>\n",
       "      <td>paid_ads</td>\n",
       "      <td>other</td>\n",
       "      <td>2</td>\n",
       "      <td>34600.0</td>\n",
       "      <td>employed</td>\n",
       "      <td>south_america</td>\n",
       "      <td>2</td>\n",
       "      <td>0.31</td>\n",
       "    </tr>\n",
       "    <tr>\n",
       "      <th>945</th>\n",
       "      <td>paid_ads</td>\n",
       "      <td>education</td>\n",
       "      <td>0</td>\n",
       "      <td>43615.0</td>\n",
       "      <td>unemployed</td>\n",
       "      <td>south_america</td>\n",
       "      <td>2</td>\n",
       "      <td>0.01</td>\n",
       "    </tr>\n",
       "  </tbody>\n",
       "</table>\n",
       "</div>"
      ],
      "text/plain": [
       "         lead_source       industry  number_of_courses_viewed  annual_income  \\\n",
       "462           events  manufacturing                         2        95543.0   \n",
       "135         referral             NA                         1        54924.0   \n",
       "117   organic_search     healthcare                         2        77352.0   \n",
       "1051        paid_ads          other                         2        34600.0   \n",
       "945         paid_ads      education                         0        43615.0   \n",
       "\n",
       "     employment_status       location  interaction_count  lead_score  \n",
       "462         unemployed         europe                  3        0.78  \n",
       "135            student  south_america                  6        0.39  \n",
       "117         unemployed         europe                  2        0.22  \n",
       "1051          employed  south_america                  2        0.31  \n",
       "945         unemployed  south_america                  2        0.01  "
      ]
     },
     "execution_count": 32,
     "metadata": {},
     "output_type": "execute_result"
    }
   ],
   "source": [
    "df_train.head()"
   ]
  },
  {
   "cell_type": "code",
   "execution_count": 33,
   "id": "f5686d4c-fabb-4f12-9b5d-3960521e8f5f",
   "metadata": {},
   "outputs": [
    {
     "data": {
      "text/html": [
       "<div>\n",
       "<style scoped>\n",
       "    .dataframe tbody tr th:only-of-type {\n",
       "        vertical-align: middle;\n",
       "    }\n",
       "\n",
       "    .dataframe tbody tr th {\n",
       "        vertical-align: top;\n",
       "    }\n",
       "\n",
       "    .dataframe thead th {\n",
       "        text-align: right;\n",
       "    }\n",
       "</style>\n",
       "<table border=\"1\" class=\"dataframe\">\n",
       "  <thead>\n",
       "    <tr style=\"text-align: right;\">\n",
       "      <th></th>\n",
       "      <th>lead_source</th>\n",
       "      <th>industry</th>\n",
       "      <th>number_of_courses_viewed</th>\n",
       "      <th>annual_income</th>\n",
       "      <th>employment_status</th>\n",
       "      <th>location</th>\n",
       "      <th>interaction_count</th>\n",
       "      <th>lead_score</th>\n",
       "    </tr>\n",
       "  </thead>\n",
       "  <tbody>\n",
       "    <tr>\n",
       "      <th>98</th>\n",
       "      <td>referral</td>\n",
       "      <td>NA</td>\n",
       "      <td>1</td>\n",
       "      <td>56659.0</td>\n",
       "      <td>employed</td>\n",
       "      <td>asia</td>\n",
       "      <td>4</td>\n",
       "      <td>0.75</td>\n",
       "    </tr>\n",
       "    <tr>\n",
       "      <th>1188</th>\n",
       "      <td>social_media</td>\n",
       "      <td>education</td>\n",
       "      <td>2</td>\n",
       "      <td>66171.0</td>\n",
       "      <td>unemployed</td>\n",
       "      <td>north_america</td>\n",
       "      <td>2</td>\n",
       "      <td>0.66</td>\n",
       "    </tr>\n",
       "    <tr>\n",
       "      <th>1407</th>\n",
       "      <td>events</td>\n",
       "      <td>finance</td>\n",
       "      <td>1</td>\n",
       "      <td>66523.0</td>\n",
       "      <td>self_employed</td>\n",
       "      <td>europe</td>\n",
       "      <td>3</td>\n",
       "      <td>0.64</td>\n",
       "    </tr>\n",
       "    <tr>\n",
       "      <th>1083</th>\n",
       "      <td>social_media</td>\n",
       "      <td>finance</td>\n",
       "      <td>1</td>\n",
       "      <td>56746.0</td>\n",
       "      <td>student</td>\n",
       "      <td>north_america</td>\n",
       "      <td>3</td>\n",
       "      <td>0.98</td>\n",
       "    </tr>\n",
       "    <tr>\n",
       "      <th>404</th>\n",
       "      <td>referral</td>\n",
       "      <td>NA</td>\n",
       "      <td>0</td>\n",
       "      <td>55449.0</td>\n",
       "      <td>student</td>\n",
       "      <td>australia</td>\n",
       "      <td>4</td>\n",
       "      <td>0.47</td>\n",
       "    </tr>\n",
       "  </tbody>\n",
       "</table>\n",
       "</div>"
      ],
      "text/plain": [
       "       lead_source   industry  number_of_courses_viewed  annual_income  \\\n",
       "98        referral         NA                         1        56659.0   \n",
       "1188  social_media  education                         2        66171.0   \n",
       "1407        events    finance                         1        66523.0   \n",
       "1083  social_media    finance                         1        56746.0   \n",
       "404       referral         NA                         0        55449.0   \n",
       "\n",
       "     employment_status       location  interaction_count  lead_score  \n",
       "98            employed           asia                  4        0.75  \n",
       "1188        unemployed  north_america                  2        0.66  \n",
       "1407     self_employed         europe                  3        0.64  \n",
       "1083           student  north_america                  3        0.98  \n",
       "404            student      australia                  4        0.47  "
      ]
     },
     "execution_count": 33,
     "metadata": {},
     "output_type": "execute_result"
    }
   ],
   "source": [
    "df_train_full.head()"
   ]
  },
  {
   "cell_type": "markdown",
   "id": "65558644-39bf-4a14-9701-8e346b9c990d",
   "metadata": {},
   "source": [
    "### Question 1: ROC AUC feature importance\n",
    "\n",
    "ROC AUC could also be used to evaluate feature importance of numerical variables. \n",
    "\n",
    "Let's do that\n",
    "\n",
    "* For each numerical variable, use it as score (aka prediction) and compute the AUC with the `y` variable as ground truth.\n",
    "* Use the training dataset for that\n",
    "\n",
    "\n",
    "If your AUC is < 0.5, invert this variable by putting \"-\" in front\n",
    "\n",
    "(e.g. `-df_train['balance']`)\n",
    "\n",
    "AUC can go below 0.5 if the variable is negatively correlated with the target variable. You can change the direction of the correlation by negating this variable - then negative correlation becomes positive.\n",
    "\n",
    "Which numerical variable (among the following 4) has the highest AUC?\n",
    "\n",
    "- `lead_score`\n",
    "- `number_of_courses_viewed`\n",
    "- `interaction_count`\n",
    "- `annual_income`"
   ]
  },
  {
   "cell_type": "code",
   "execution_count": 34,
   "id": "4be2ed14-fb2c-41c5-8ddc-899b91d20f14",
   "metadata": {},
   "outputs": [],
   "source": [
    "from sklearn.metrics import roc_auc_score"
   ]
  },
  {
   "cell_type": "code",
   "execution_count": 35,
   "id": "3c5f3139-accc-4b9e-be69-7ab6dd545735",
   "metadata": {},
   "outputs": [
    {
     "name": "stdout",
     "output_type": "stream",
     "text": [
      "feature: number_of_courses_viewed ---> roc_auc_feature_importance: 0.7635680590007088\n",
      "feature: annual_income ---> roc_auc_feature_importance: 0.5519578313253012\n",
      "feature: interaction_count ---> roc_auc_feature_importance: 0.738270176293409\n",
      "feature: lead_score ---> roc_auc_feature_importance: 0.6144993577250176\n"
     ]
    }
   ],
   "source": [
    "for f in numerical:\n",
    "    auc_score = roc_auc_score(y_train, df_train[f])\n",
    "    if auc_score < 0.5:\n",
    "        auc_score *= -1\n",
    "\n",
    "    print(f'feature: {f} ---> roc_auc_feature_importance: {auc_score}')"
   ]
  },
  {
   "cell_type": "markdown",
   "id": "f37528db-4ab2-46df-b30d-ada71c5a3ea5",
   "metadata": {},
   "source": [
    "ans: number_of_courses_viewed"
   ]
  },
  {
   "cell_type": "markdown",
   "id": "9ec6a2a5-1321-47e1-8cc2-455d4f4be78a",
   "metadata": {},
   "source": [
    "### Question 2: Training the model\n",
    "\n",
    "Apply one-hot-encoding using `DictVectorizer` and train the logistic regression with these parameters:\n",
    "\n",
    "```python\n",
    "LogisticRegression(solver='liblinear', C=1.0, max_iter=1000)\n",
    "```\n",
    "\n",
    "What's the AUC of this model on the validation dataset? (round to 3 digits)\n",
    "\n",
    "- 0.32\n",
    "- 0.52\n",
    "- 0.72\n",
    "- 0.92\n"
   ]
  },
  {
   "cell_type": "code",
   "execution_count": 37,
   "id": "74eb882b-1bf2-4706-bfa0-46a7f5f938ce",
   "metadata": {},
   "outputs": [],
   "source": [
    "from sklearn.feature_extraction import DictVectorizer\n",
    "from sklearn.linear_model import LogisticRegression"
   ]
  },
  {
   "cell_type": "code",
   "execution_count": 45,
   "id": "f3c55bcb-f9ac-48ce-b61c-56461810eb6d",
   "metadata": {},
   "outputs": [
    {
     "name": "stdout",
     "output_type": "stream",
     "text": [
      "auc on validation set: 0.817\n"
     ]
    }
   ],
   "source": [
    "train_dicts = df_train.to_dict(orient='records')\n",
    "val_dicts = df_val.to_dict(orient='records')\n",
    "\n",
    "dv = DictVectorizer(sparse=False)\n",
    "\n",
    "X_train = dv.fit_transform(train_dicts)\n",
    "X_val = dv.transform(val_dicts)\n",
    "\n",
    "model = LogisticRegression(solver='liblinear', C=1.0, max_iter=1000)\n",
    "\n",
    "model.fit(X_train, y_train)\n",
    "y_pred = model.predict_proba(X_val)[:, 1]\n",
    "auc_score = roc_auc_score(y_val, y_pred)\n",
    "print(f'auc on validation set: {auc_score:.3f}')"
   ]
  },
  {
   "cell_type": "code",
   "execution_count": 41,
   "id": "548917dd-543c-46cd-b7ee-013cb408de24",
   "metadata": {},
   "outputs": [
    {
     "data": {
      "text/plain": [
       "0.09713162688141119"
      ]
     },
     "execution_count": 41,
     "metadata": {},
     "output_type": "execute_result"
    }
   ],
   "source": [
    "abs(0.72 - auc_score)"
   ]
  },
  {
   "cell_type": "code",
   "execution_count": 42,
   "id": "141cf7ba-2e40-4bc6-99ee-b4b3974351c9",
   "metadata": {},
   "outputs": [
    {
     "data": {
      "text/plain": [
       "0.10286837311858887"
      ]
     },
     "execution_count": 42,
     "metadata": {},
     "output_type": "execute_result"
    }
   ],
   "source": [
    "abs(0.92 - auc_score)"
   ]
  },
  {
   "cell_type": "markdown",
   "id": "3d70df0b-eef9-461b-95d0-374ca728064f",
   "metadata": {},
   "source": [
    "ans: I am unsure of this one because it is seeminly between two answers, but the closer one would be 0.72"
   ]
  },
  {
   "cell_type": "markdown",
   "id": "0c4e3f4b-c01a-4477-ac96-4a2bf84079bd",
   "metadata": {},
   "source": [
    "### Question 3: Precision and Recall\n",
    "\n",
    "Now let's compute precision and recall for our model.\n",
    "\n",
    "* Evaluate the model on all thresholds from 0.0 to 1.0 with step 0.01\n",
    "* For each threshold, compute precision and recall\n",
    "* Plot them\n",
    "\n",
    "At which threshold precision and recall curves intersect?\n",
    "\n",
    "* 0.145\n",
    "* 0.345\n",
    "* 0.545\n",
    "* 0.745\n",
    "\n"
   ]
  },
  {
   "cell_type": "code",
   "execution_count": 67,
   "id": "5c76c739-0df0-4325-a2bb-87fd88bc24c5",
   "metadata": {},
   "outputs": [],
   "source": [
    "from sklearn.metrics import precision_score, recall_score\n",
    "import matplotlib.pyplot as plt"
   ]
  },
  {
   "cell_type": "code",
   "execution_count": 50,
   "id": "f2c115d6-ddcb-408a-a70e-d1a59003b108",
   "metadata": {},
   "outputs": [],
   "source": [
    "thresholds = np.linspace(0, 1, 101)"
   ]
  },
  {
   "cell_type": "code",
   "execution_count": 51,
   "id": "04bc35af-c0da-4133-8c0c-21b8417c3f8f",
   "metadata": {},
   "outputs": [
    {
     "data": {
      "text/plain": [
       "array([0.  , 0.01, 0.02, 0.03, 0.04, 0.05, 0.06, 0.07, 0.08, 0.09, 0.1 ,\n",
       "       0.11, 0.12, 0.13, 0.14, 0.15, 0.16, 0.17, 0.18, 0.19, 0.2 , 0.21,\n",
       "       0.22, 0.23, 0.24, 0.25, 0.26, 0.27, 0.28, 0.29, 0.3 , 0.31, 0.32,\n",
       "       0.33, 0.34, 0.35, 0.36, 0.37, 0.38, 0.39, 0.4 , 0.41, 0.42, 0.43,\n",
       "       0.44, 0.45, 0.46, 0.47, 0.48, 0.49, 0.5 , 0.51, 0.52, 0.53, 0.54,\n",
       "       0.55, 0.56, 0.57, 0.58, 0.59, 0.6 , 0.61, 0.62, 0.63, 0.64, 0.65,\n",
       "       0.66, 0.67, 0.68, 0.69, 0.7 , 0.71, 0.72, 0.73, 0.74, 0.75, 0.76,\n",
       "       0.77, 0.78, 0.79, 0.8 , 0.81, 0.82, 0.83, 0.84, 0.85, 0.86, 0.87,\n",
       "       0.88, 0.89, 0.9 , 0.91, 0.92, 0.93, 0.94, 0.95, 0.96, 0.97, 0.98,\n",
       "       0.99, 1.  ])"
      ]
     },
     "execution_count": 51,
     "metadata": {},
     "output_type": "execute_result"
    }
   ],
   "source": [
    "thresholds"
   ]
  },
  {
   "cell_type": "code",
   "execution_count": 61,
   "id": "5fd73107-bc84-4577-9690-f072139bf8c4",
   "metadata": {},
   "outputs": [],
   "source": [
    "prec_scores = []\n",
    "rec_scores = []\n",
    "abs_diff_scores = []\n",
    "\n",
    "for t in thresholds:\n",
    "    \n",
    "    prec = precision_score(y_val, (y_pred >= t), zero_division=0)\n",
    "    prec_scores.append(prec)\n",
    "    \n",
    "    rec = recall_score(y_val, (y_pred >= t))\n",
    "    rec_scores.append(rec)\n",
    "\n",
    "    abs_diff = abs(prec - rec)\n",
    "    abs_diff_scores.append(abs_diff)\n",
    "    "
   ]
  },
  {
   "cell_type": "code",
   "execution_count": 68,
   "id": "ba1f693d-c3d2-4b68-a369-c6063fad7b67",
   "metadata": {},
   "outputs": [
    {
     "data": {
      "text/html": [
       "<div>\n",
       "<style scoped>\n",
       "    .dataframe tbody tr th:only-of-type {\n",
       "        vertical-align: middle;\n",
       "    }\n",
       "\n",
       "    .dataframe tbody tr th {\n",
       "        vertical-align: top;\n",
       "    }\n",
       "\n",
       "    .dataframe thead th {\n",
       "        text-align: right;\n",
       "    }\n",
       "</style>\n",
       "<table border=\"1\" class=\"dataframe\">\n",
       "  <thead>\n",
       "    <tr style=\"text-align: right;\">\n",
       "      <th></th>\n",
       "      <th>threshold</th>\n",
       "      <th>precision</th>\n",
       "      <th>recall</th>\n",
       "      <th>abs_difference</th>\n",
       "    </tr>\n",
       "  </thead>\n",
       "  <tbody>\n",
       "    <tr>\n",
       "      <th>100</th>\n",
       "      <td>1.00</td>\n",
       "      <td>0.000000</td>\n",
       "      <td>0.000000</td>\n",
       "      <td>0.000000</td>\n",
       "    </tr>\n",
       "    <tr>\n",
       "      <th>99</th>\n",
       "      <td>0.99</td>\n",
       "      <td>0.000000</td>\n",
       "      <td>0.000000</td>\n",
       "      <td>0.000000</td>\n",
       "    </tr>\n",
       "    <tr>\n",
       "      <th>98</th>\n",
       "      <td>0.98</td>\n",
       "      <td>0.000000</td>\n",
       "      <td>0.000000</td>\n",
       "      <td>0.000000</td>\n",
       "    </tr>\n",
       "    <tr>\n",
       "      <th>64</th>\n",
       "      <td>0.64</td>\n",
       "      <td>0.779070</td>\n",
       "      <td>0.783626</td>\n",
       "      <td>0.004556</td>\n",
       "    </tr>\n",
       "    <tr>\n",
       "      <th>65</th>\n",
       "      <td>0.65</td>\n",
       "      <td>0.778443</td>\n",
       "      <td>0.760234</td>\n",
       "      <td>0.018209</td>\n",
       "    </tr>\n",
       "    <tr>\n",
       "      <th>63</th>\n",
       "      <td>0.63</td>\n",
       "      <td>0.763736</td>\n",
       "      <td>0.812865</td>\n",
       "      <td>0.049129</td>\n",
       "    </tr>\n",
       "    <tr>\n",
       "      <th>66</th>\n",
       "      <td>0.66</td>\n",
       "      <td>0.779874</td>\n",
       "      <td>0.725146</td>\n",
       "      <td>0.054728</td>\n",
       "    </tr>\n",
       "    <tr>\n",
       "      <th>62</th>\n",
       "      <td>0.62</td>\n",
       "      <td>0.760638</td>\n",
       "      <td>0.836257</td>\n",
       "      <td>0.075619</td>\n",
       "    </tr>\n",
       "    <tr>\n",
       "      <th>67</th>\n",
       "      <td>0.67</td>\n",
       "      <td>0.797386</td>\n",
       "      <td>0.713450</td>\n",
       "      <td>0.083935</td>\n",
       "    </tr>\n",
       "    <tr>\n",
       "      <th>61</th>\n",
       "      <td>0.61</td>\n",
       "      <td>0.747475</td>\n",
       "      <td>0.865497</td>\n",
       "      <td>0.118022</td>\n",
       "    </tr>\n",
       "  </tbody>\n",
       "</table>\n",
       "</div>"
      ],
      "text/plain": [
       "     threshold  precision    recall  abs_difference\n",
       "100       1.00   0.000000  0.000000        0.000000\n",
       "99        0.99   0.000000  0.000000        0.000000\n",
       "98        0.98   0.000000  0.000000        0.000000\n",
       "64        0.64   0.779070  0.783626        0.004556\n",
       "65        0.65   0.778443  0.760234        0.018209\n",
       "63        0.63   0.763736  0.812865        0.049129\n",
       "66        0.66   0.779874  0.725146        0.054728\n",
       "62        0.62   0.760638  0.836257        0.075619\n",
       "67        0.67   0.797386  0.713450        0.083935\n",
       "61        0.61   0.747475  0.865497        0.118022"
      ]
     },
     "execution_count": 68,
     "metadata": {},
     "output_type": "execute_result"
    }
   ],
   "source": [
    "df_scores = pd.DataFrame({\"threshold\": thresholds, \"precision\": prec_scores, \"recall\": rec_scores,\n",
    "                         'abs_difference': abs_diff_scores})\n",
    "df_scores.sort_values('abs_difference', ascending=True).head(10)"
   ]
  },
  {
   "cell_type": "code",
   "execution_count": 72,
   "id": "f60ae2cc-5da4-4a75-a891-c880d2452d5b",
   "metadata": {},
   "outputs": [
    {
     "data": {
      "text/plain": [
       "0.09499999999999997"
      ]
     },
     "execution_count": 72,
     "metadata": {},
     "output_type": "execute_result"
    }
   ],
   "source": [
    "abs(0.545 - 0.64)"
   ]
  },
  {
   "cell_type": "code",
   "execution_count": 73,
   "id": "725e2bfd-7a01-4d4a-b209-4f0b45fcecac",
   "metadata": {},
   "outputs": [
    {
     "data": {
      "text/plain": [
       "0.10499999999999998"
      ]
     },
     "execution_count": 73,
     "metadata": {},
     "output_type": "execute_result"
    }
   ],
   "source": [
    "abs(0.745 - 0.64)"
   ]
  },
  {
   "cell_type": "markdown",
   "id": "216438e7-0f43-445f-b079-73d1ffe24f05",
   "metadata": {},
   "source": [
    "ans: The threshold where the difference between precision and recall was the smallest was 0.64, that is almost in the middle of two choices for answers but it is slightly closer to 0.545, so that is my answer.  However, the fact that this is yet another question where the answer I get is almost prefectly betwen two choices offered in the multiple choice makes me think I am doing someting wrong.  i would think the anser should be more obviously closer to one of the choices."
   ]
  },
  {
   "cell_type": "code",
   "execution_count": 71,
   "id": "395d4195-b7ef-4142-9362-f21adc082346",
   "metadata": {},
   "outputs": [
    {
     "data": {
      "image/png": "[encoded data removed]",
      "text/plain": [
       "<Figure size 800x600 with 1 Axes>"
      ]
     },
     "metadata": {},
     "output_type": "display_data"
    }
   ],
   "source": [
    "plt.figure(figsize=(8, 6))\n",
    "plt.plot(thresholds, prec_scores, label='Precision', linewidth=2)\n",
    "plt.plot(thresholds, rec_scores, label='Recall', linewidth=2)\n",
    "\n",
    "plt.xlabel(\"Threshold\")\n",
    "plt.ylabel(\"Recall\")\n",
    "plt.title('Precision and Recall vs. Threshold')\n",
    "plt.legend()\n",
    "plt.grid(True)\n",
    "plt.show()"
   ]
  },
  {
   "cell_type": "markdown",
   "id": "ebfa6ba8-f623-4463-a158-ec2f165c4ca8",
   "metadata": {},
   "source": [
    "### Question 4: F1 score\n",
    "\n",
    "Precision and recall are conflicting - when one grows, the other goes down. That's why they are often combined into the F1 score - a metrics that takes into account both\n",
    "\n",
    "This is the formula for computing F1:\n",
    "\n",
    "$$F_1 = 2 \\cdot \\cfrac{P \\cdot R}{P + R}$$\n",
    "\n",
    "Where $P$ is precision and $R$ is recall.\n",
    "\n",
    "Let's compute F1 for all thresholds from 0.0 to 1.0 with increment 0.01\n",
    "\n",
    "At which threshold F1 is maximal?\n",
    "\n",
    "- 0.14\n",
    "- 0.34\n",
    "- 0.54\n",
    "- 0.74"
   ]
  },
  {
   "cell_type": "code",
   "execution_count": 74,
   "id": "bdffc7ff-e11b-4027-b095-dff4b48a4c79",
   "metadata": {},
   "outputs": [],
   "source": [
    "df_scores['F1_scores'] = (2 * (df_scores['precision'] * df_scores['recall']) / (df_scores['precision'] + df_scores['recall']))"
   ]
  },
  {
   "cell_type": "code",
   "execution_count": 76,
   "id": "14fe3c5d-4728-40ed-aab8-1838af3bae4e",
   "metadata": {},
   "outputs": [
    {
     "data": {
      "text/html": [
       "<div>\n",
       "<style scoped>\n",
       "    .dataframe tbody tr th:only-of-type {\n",
       "        vertical-align: middle;\n",
       "    }\n",
       "\n",
       "    .dataframe tbody tr th {\n",
       "        vertical-align: top;\n",
       "    }\n",
       "\n",
       "    .dataframe thead th {\n",
       "        text-align: right;\n",
       "    }\n",
       "</style>\n",
       "<table border=\"1\" class=\"dataframe\">\n",
       "  <thead>\n",
       "    <tr style=\"text-align: right;\">\n",
       "      <th></th>\n",
       "      <th>threshold</th>\n",
       "      <th>precision</th>\n",
       "      <th>recall</th>\n",
       "      <th>abs_difference</th>\n",
       "      <th>F1_scores</th>\n",
       "    </tr>\n",
       "  </thead>\n",
       "  <tbody>\n",
       "    <tr>\n",
       "      <th>57</th>\n",
       "      <td>0.57</td>\n",
       "      <td>0.732394</td>\n",
       "      <td>0.912281</td>\n",
       "      <td>0.179886</td>\n",
       "      <td>0.812500</td>\n",
       "    </tr>\n",
       "    <tr>\n",
       "      <th>55</th>\n",
       "      <td>0.55</td>\n",
       "      <td>0.719457</td>\n",
       "      <td>0.929825</td>\n",
       "      <td>0.210368</td>\n",
       "      <td>0.811224</td>\n",
       "    </tr>\n",
       "    <tr>\n",
       "      <th>56</th>\n",
       "      <td>0.56</td>\n",
       "      <td>0.723502</td>\n",
       "      <td>0.918129</td>\n",
       "      <td>0.194626</td>\n",
       "      <td>0.809278</td>\n",
       "    </tr>\n",
       "    <tr>\n",
       "      <th>59</th>\n",
       "      <td>0.59</td>\n",
       "      <td>0.741463</td>\n",
       "      <td>0.888889</td>\n",
       "      <td>0.147425</td>\n",
       "      <td>0.808511</td>\n",
       "    </tr>\n",
       "    <tr>\n",
       "      <th>58</th>\n",
       "      <td>0.58</td>\n",
       "      <td>0.733333</td>\n",
       "      <td>0.900585</td>\n",
       "      <td>0.167251</td>\n",
       "      <td>0.808399</td>\n",
       "    </tr>\n",
       "    <tr>\n",
       "      <th>...</th>\n",
       "      <td>...</td>\n",
       "      <td>...</td>\n",
       "      <td>...</td>\n",
       "      <td>...</td>\n",
       "      <td>...</td>\n",
       "    </tr>\n",
       "    <tr>\n",
       "      <th>96</th>\n",
       "      <td>0.96</td>\n",
       "      <td>1.000000</td>\n",
       "      <td>0.017544</td>\n",
       "      <td>0.982456</td>\n",
       "      <td>0.034483</td>\n",
       "    </tr>\n",
       "    <tr>\n",
       "      <th>97</th>\n",
       "      <td>0.97</td>\n",
       "      <td>1.000000</td>\n",
       "      <td>0.005848</td>\n",
       "      <td>0.994152</td>\n",
       "      <td>0.011628</td>\n",
       "    </tr>\n",
       "    <tr>\n",
       "      <th>98</th>\n",
       "      <td>0.98</td>\n",
       "      <td>0.000000</td>\n",
       "      <td>0.000000</td>\n",
       "      <td>0.000000</td>\n",
       "      <td>NaN</td>\n",
       "    </tr>\n",
       "    <tr>\n",
       "      <th>99</th>\n",
       "      <td>0.99</td>\n",
       "      <td>0.000000</td>\n",
       "      <td>0.000000</td>\n",
       "      <td>0.000000</td>\n",
       "      <td>NaN</td>\n",
       "    </tr>\n",
       "    <tr>\n",
       "      <th>100</th>\n",
       "      <td>1.00</td>\n",
       "      <td>0.000000</td>\n",
       "      <td>0.000000</td>\n",
       "      <td>0.000000</td>\n",
       "      <td>NaN</td>\n",
       "    </tr>\n",
       "  </tbody>\n",
       "</table>\n",
       "<p>101 rows × 5 columns</p>\n",
       "</div>"
      ],
      "text/plain": [
       "     threshold  precision    recall  abs_difference  F1_scores\n",
       "57        0.57   0.732394  0.912281        0.179886   0.812500\n",
       "55        0.55   0.719457  0.929825        0.210368   0.811224\n",
       "56        0.56   0.723502  0.918129        0.194626   0.809278\n",
       "59        0.59   0.741463  0.888889        0.147425   0.808511\n",
       "58        0.58   0.733333  0.900585        0.167251   0.808399\n",
       "..         ...        ...       ...             ...        ...\n",
       "96        0.96   1.000000  0.017544        0.982456   0.034483\n",
       "97        0.97   1.000000  0.005848        0.994152   0.011628\n",
       "98        0.98   0.000000  0.000000        0.000000        NaN\n",
       "99        0.99   0.000000  0.000000        0.000000        NaN\n",
       "100       1.00   0.000000  0.000000        0.000000        NaN\n",
       "\n",
       "[101 rows x 5 columns]"
      ]
     },
     "execution_count": 76,
     "metadata": {},
     "output_type": "execute_result"
    }
   ],
   "source": [
    "df_scores.sort_values('F1_scores', ascending=False)"
   ]
  },
  {
   "cell_type": "code",
   "execution_count": 77,
   "id": "d5055053-2a0e-48a1-9274-bfc3183219ff",
   "metadata": {},
   "outputs": [
    {
     "name": "stdout",
     "output_type": "stream",
     "text": [
      "Best threshold: 0.5700000000000001, F1 score: 0.812\n"
     ]
    }
   ],
   "source": [
    "# Find the index of the maximum F1 score\n",
    "best_idx = df_scores['F1_scores'].idxmax()\n",
    "\n",
    "# Get the threshold and F1 score at that index\n",
    "best_threshold = df_scores.loc[best_idx, 'threshold']\n",
    "best_f1 = df_scores.loc[best_idx, 'F1_scores']\n",
    "\n",
    "print(f\"Best threshold: {best_threshold}, F1 score: {best_f1:.3f}\")"
   ]
  },
  {
   "cell_type": "code",
   "execution_count": 82,
   "id": "c322a466-0b53-41f4-a4e2-7f4decb9f5a6",
   "metadata": {},
   "outputs": [
    {
     "data": {
      "text/plain": [
       "np.float64(0.5700000000000001)"
      ]
     },
     "execution_count": 82,
     "metadata": {},
     "output_type": "execute_result"
    }
   ],
   "source": [
    "best_idx = df_scores['F1_scores'].idxmax()\n",
    "\n",
    "best_threshold = df_scores.loc[best_idx, 'threshold']\n",
    "best_threshold"
   ]
  },
  {
   "cell_type": "markdown",
   "id": "19214cfa-195b-464b-860f-a77b418502e9",
   "metadata": {},
   "source": [
    "ans: the closest answer for the threshold where the F1 score is the greatrest is 0.54"
   ]
  },
  {
   "cell_type": "markdown",
   "id": "207fc3dd-7d75-4dc6-8eb1-a0e35d9ebbdc",
   "metadata": {},
   "source": [
    "### Question 5: 5-Fold CV\n",
    "\n",
    "\n",
    "Use the `KFold` class from Scikit-Learn to evaluate our model on 5 different folds:\n",
    "\n",
    "```\n",
    "KFold(n_splits=5, shuffle=True, random_state=1)\n",
    "```\n",
    "\n",
    "* Iterate over different folds of `df_full_train`\n",
    "* Split the data into train and validation\n",
    "* Train the model on train with these parameters: `LogisticRegression(solver='liblinear', C=1.0, max_iter=1000)`\n",
    "* Use AUC to evaluate the model on validation\n",
    "\n",
    "How large is standard deviation of the scores across different folds?\n",
    "\n",
    "- 0.0001\n",
    "- 0.006\n",
    "- 0.06\n",
    "- 0.36"
   ]
  },
  {
   "cell_type": "code",
   "execution_count": null,
   "id": "447119cd-17a1-454d-a8b7-de6480122d4d",
   "metadata": {},
   "outputs": [],
   "source": [
    "from sklearn.model_selection import KFold\n",
    "X = np.array([[1, 2], [3, 4], [1, 2], [3, 4]])\n",
    "y = np.array([1, 2, 3, 4])\n",
    "kf = KFold(n_splits=2)\n",
    "kf.get_n_splits(X)\n",
    "2\n",
    "print(kf)\n",
    "KFold(n_splits=2, random_state=None, shuffle=False)\n",
    "for i, (train_index, test_index) in enumerate(kf.split(X)):\n",
    "    print(f\"Fold {i}:\")\n",
    "    print(f\"  Train: index={train_index}\")\n",
    "    print(f\"  Test:  index={test_index}\")"
   ]
  },
  {
   "cell_type": "code",
   "execution_count": 83,
   "id": "bca0a3f8-63b4-45fc-9d0e-5c0696e28d18",
   "metadata": {},
   "outputs": [],
   "source": [
    "from sklearn.model_selection import KFold"
   ]
  },
  {
   "cell_type": "code",
   "execution_count": 84,
   "id": "06dddd2a-b2ee-4e66-9247-2534513d6166",
   "metadata": {},
   "outputs": [
    {
     "data": {
      "text/plain": [
       "5"
      ]
     },
     "execution_count": 84,
     "metadata": {},
     "output_type": "execute_result"
    }
   ],
   "source": [
    "kf = KFold(n_splits=5, shuffle=True, random_state=1)\n",
    "kf.get_n_splits(df_train_full)"
   ]
  },
  {
   "cell_type": "code",
   "execution_count": 117,
   "id": "59d25b62-47fa-4920-a02b-e8221f8216e1",
   "metadata": {},
   "outputs": [],
   "source": [
    "# replitting the iniitial dataframe (witht he same random_state so it should bbe the same as it was), nut this time not \n",
    "# eleiminating the target yet\n",
    "\n",
    "df_train_full, df_test, y_train_full, y_test = train_test_split(df, df[target].values, test_size=0.2, random_state=1)"
   ]
  },
  {
   "cell_type": "code",
   "execution_count": 124,
   "id": "c5d6d317-57ef-46f5-953a-46c97e1c42ce",
   "metadata": {},
   "outputs": [
    {
     "name": "stdout",
     "output_type": "stream",
     "text": [
      "fold: 0 ----> auc_score: 0.8060745924216483\n",
      "fold: 1 ----> auc_score: 0.8713738368910783\n",
      "fold: 2 ----> auc_score: 0.7754320118852139\n",
      "fold: 3 ----> auc_score: 0.8018368617683685\n",
      "fold: 4 ----> auc_score: 0.8558272713202291\n"
     ]
    }
   ],
   "source": [
    "auc_scores_cv = []\n",
    "\n",
    "for i, (train_index, val_index) in enumerate(kf.split(df_train_full)):\n",
    "    df_train = df_train_full.iloc[train_index]\n",
    "    df_val = df_train_full.iloc[val_index]\n",
    "\n",
    "    y_train = df_train[target].values\n",
    "    y_val = df_val[target].values\n",
    "\n",
    "    del df_train[target]\n",
    "    del df_val[target]\n",
    "\n",
    "    dv = DictVectorizer(sparse=False)\n",
    "\n",
    "    train_dicts = df_train.to_dict(orient='records')\n",
    "    val_dicts = df_val.to_dict(orient='records')\n",
    "\n",
    "    X_train = dv.fit_transform(train_dicts)\n",
    "    X_val = dv.transform(val_dicts)\n",
    "\n",
    "    model = LogisticRegression(solver='liblinear', C=1.0, max_iter=1000)\n",
    "    model.fit(X_train, y_train)\n",
    "    y_pred = model.predict_proba(X_val)[:, 1]\n",
    "    auc = roc_auc_score(y_val, y_pred)\n",
    "    print(f\"fold: {i} ----> auc_score: {auc}\")\n",
    "    auc_scores_cv.append(auc)\n",
    "    \n",
    "\n",
    "    \n",
    "\n",
    "    "
   ]
  },
  {
   "cell_type": "code",
   "execution_count": 125,
   "id": "f732be00-d654-4996-a992-ff0fe9c94f5b",
   "metadata": {},
   "outputs": [
    {
     "data": {
      "text/plain": [
       "np.float64(0.03580711942905165)"
      ]
     },
     "execution_count": 125,
     "metadata": {},
     "output_type": "execute_result"
    }
   ],
   "source": [
    "np.std(auc_scores_cv)"
   ]
  },
  {
   "cell_type": "markdown",
   "id": "e8b0dd1f-0e53-4118-b0fc-3bfbbc157462",
   "metadata": {},
   "source": [
    "ans: again the choices don't appear very close to the answer I got but the closest was 0.06"
   ]
  },
  {
   "cell_type": "markdown",
   "id": "2fc92a65-4f19-4ce9-80c9-7d059695d677",
   "metadata": {},
   "source": [
    "### Question 6: Hyperparameter Tuning\n",
    "\n",
    "Now let's use 5-Fold cross-validation to find the best parameter `C`\n",
    "\n",
    "* Iterate over the following `C` values: `[0.000001, 0.001, 1]`\n",
    "* Initialize `KFold` with the same parameters as previously\n",
    "* Use these parameters for the model: `LogisticRegression(solver='liblinear', C=C, max_iter=1000)`\n",
    "* Compute the mean score as well as the std (round the mean and std to 3 decimal digits)\n",
    "\n",
    "Which `C` leads to the best mean score?\n",
    "\n",
    "- 0.000001\n",
    "- 0.001\n",
    "- 1\n",
    "\n",
    "If you have ties, select the score with the lowest std. If you still have ties, select the smallest `C`."
   ]
  },
  {
   "cell_type": "code",
   "execution_count": 130,
   "id": "f98abbd2-fd08-4935-8893-2df546e5ad4d",
   "metadata": {},
   "outputs": [
    {
     "name": "stdout",
     "output_type": "stream",
     "text": [
      "C: 1e-06\n",
      "\n",
      "    fold: 0 ----> auc_score: 0.5572098563239782\n",
      "    fold: 1 ----> auc_score: 0.5191961842208147\n",
      "    fold: 2 ----> auc_score: 0.5894909688013137\n",
      "    fold: 3 ----> auc_score: 0.5582191780821917\n",
      "    fold: 4 ----> auc_score: 0.5769230769230769\n",
      "mean_auc: 0.560\n",
      "auc_std: 0.024\n",
      "\n",
      "C: 0.001\n",
      "\n",
      "    fold: 0 ----> auc_score: 0.8608650338718081\n",
      "    fold: 1 ----> auc_score: 0.8967081085307685\n",
      "    fold: 2 ----> auc_score: 0.822816482915005\n",
      "    fold: 3 ----> auc_score: 0.8539850560398504\n",
      "    fold: 4 ----> auc_score: 0.9000154774802662\n",
      "mean_auc: 0.867\n",
      "auc_std: 0.029\n",
      "\n",
      "C: 1\n",
      "\n",
      "    fold: 0 ----> auc_score: 0.8060745924216483\n",
      "    fold: 1 ----> auc_score: 0.8713738368910783\n",
      "    fold: 2 ----> auc_score: 0.7754320118852139\n",
      "    fold: 3 ----> auc_score: 0.8018368617683685\n",
      "    fold: 4 ----> auc_score: 0.8558272713202291\n",
      "mean_auc: 0.822\n",
      "auc_std: 0.036\n",
      "\n"
     ]
    }
   ],
   "source": [
    "for C in [0.000001, 0.001, 1]:\n",
    "    auc_scores = []\n",
    "    kf = KFold(n_splits=5, shuffle=True, random_state=1)\n",
    "    print(f\"C: {C}\")\n",
    "    print()\n",
    "\n",
    "    for i, (train_index, val_index) in enumerate(kf.split(df_train_full)):\n",
    "        df_train = df_train_full.iloc[train_index]\n",
    "        df_val = df_train_full.iloc[val_index]\n",
    "    \n",
    "        y_train = df_train[target].values\n",
    "        y_val = df_val[target].values\n",
    "    \n",
    "        del df_train[target]\n",
    "        del df_val[target]\n",
    "    \n",
    "        dv = DictVectorizer(sparse=False)\n",
    "    \n",
    "        train_dicts = df_train.to_dict(orient='records')\n",
    "        val_dicts = df_val.to_dict(orient='records')\n",
    "    \n",
    "        X_train = dv.fit_transform(train_dicts)\n",
    "        X_val = dv.transform(val_dicts)\n",
    "    \n",
    "        model = LogisticRegression(solver='liblinear', C=C, max_iter=1000)\n",
    "        model.fit(X_train, y_train)\n",
    "        y_pred = model.predict_proba(X_val)[:, 1]\n",
    "        auc = roc_auc_score(y_val, y_pred)\n",
    "        print(f\"    fold: {i} ----> auc_score: {auc}\")\n",
    "        auc_scores.append(auc)\n",
    "\n",
    "    print(f\"mean_auc: {np.mean(auc_scores):.3f}\")\n",
    "    print(f\"auc_std: {np.std(auc_scores):.3f}\")\n",
    "    print()\n",
    "\n",
    "    "
   ]
  },
  {
   "cell_type": "markdown",
   "id": "c735d5ef-eafb-4e6e-be96-dcf366ba5156",
   "metadata": {},
   "source": [
    "ans: a C of 0.001 gives the best mean roc_auc_score"
   ]
  },
  {
   "cell_type": "code",
   "execution_count": null,
   "id": "622ab8e3-6361-457b-af3c-5f7ba26550dd",
   "metadata": {},
   "outputs": [],
   "source": []
  },
  {
   "cell_type": "code",
   "execution_count": null,
   "id": "0d636ffc-aff1-4643-ac25-faad3e51120f",
   "metadata": {},
   "outputs": [],
   "source": []
  }
 ],
 "metadata": {
  "kernelspec": {
   "display_name": "Python 3 (ipykernel)",
   "language": "python",
   "name": "python3"
  },
  "language_info": {
   "codemirror_mode": {
    "name": "ipython",
    "version": 3
   },
   "file_extension": ".py",
   "mimetype": "text/x-python",
   "name": "python",
   "nbconvert_exporter": "python",
   "pygments_lexer": "ipython3",
   "version": "3.11.13"
  }
 },
 "nbformat": 4,
 "nbformat_minor": 5
}
