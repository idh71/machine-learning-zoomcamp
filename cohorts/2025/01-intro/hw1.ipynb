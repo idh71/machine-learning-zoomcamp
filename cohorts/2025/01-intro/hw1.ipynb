{
 "cells": [
  {
   "cell_type": "markdown",
   "id": "75ee1d7e",
   "metadata": {},
   "source": [
    "# Homework\n",
    "\n",
    "## Set up the environment\n",
    "\n",
    "You need to install Python, NumPy, Pandas, Matplotlib, and Seaborn. For that, you can use the instructions from\n",
    "[06-environment.md](../../../01-intro/06-environment.md).\n",
    "\n",
    "## Q1. Pandas version\n",
    "\n",
    "What version of Pandas did you install?\n",
    "\n",
    "You can get the version information using the `__version__` field:\n",
    "\n",
    "```python\n",
    "pd.__version__"
   ]
  },
  {
   "cell_type": "code",
   "execution_count": 93,
   "id": "672d10ef",
   "metadata": {},
   "outputs": [],
   "source": [
    "import pandas as pd\n",
    "import numpy as np"
   ]
  },
  {
   "cell_type": "code",
   "execution_count": 4,
   "id": "56861b7b",
   "metadata": {},
   "outputs": [
    {
     "data": {
      "text/plain": [
       "'2.3.2'"
      ]
     },
     "execution_count": 4,
     "metadata": {},
     "output_type": "execute_result"
    }
   ],
   "source": [
    "pd.__version__"
   ]
  },
  {
   "cell_type": "markdown",
   "id": "5765f458-e896-4644-9a61-852fb5677d19",
   "metadata": {},
   "source": [
    "## Getting the data \n",
    "\n",
    "For this homework, we'll use the Car Fuel Efficiency dataset. Download it from <a href='https://raw.githubusercontent.com/alexeygrigorev/datasets/master/car_fuel_efficiency.csv'>here</a>.\n",
    "\n",
    "You can do it with wget:\n",
    "```bash\n",
    "wget https://raw.githubusercontent.com/alexeygrigorev/datasets/master/car_fuel_efficiency.csv\n",
    "```\n",
    "\n",
    "Or just open it with your browser and click \"Save as...\".\n",
    "\n",
    "Now read it with Pandas.\n",
    "\n",
    "## Q2. Records count\n",
    "\n",
    "How many records are in the dataset?\n",
    "\n",
    "- 4704\n",
    "- 8704\n",
    "- 9704\n",
    "- 17704"
   ]
  },
  {
   "cell_type": "code",
   "execution_count": 6,
   "id": "8b84b59c-a3e5-42cc-aabe-104a2c6ac1c0",
   "metadata": {},
   "outputs": [
    {
     "name": "stdout",
     "output_type": "stream",
     "text": [
      "--2025-09-29 10:13:46--  https://raw.githubusercontent.com/alexeygrigorev/datasets/master/car_fuel_efficiency.csv\n",
      "Resolving raw.githubusercontent.com (raw.githubusercontent.com)... 2606:50c0:8002::154, 2606:50c0:8003::154, 2606:50c0:8000::154, ...\n",
      "Connecting to raw.githubusercontent.com (raw.githubusercontent.com)|2606:50c0:8002::154|:443... connected.\n",
      "HTTP request sent, awaiting response... 200 OK\n",
      "Length: 874188 (854K) [text/plain]\n",
      "Saving to: ‘car_fuel_efficiency.csv’\n",
      "\n",
      "car_fuel_efficiency 100%[===================>] 853.70K  3.19MB/s    in 0.3s    \n",
      "\n",
      "2025-09-29 10:13:47 (3.19 MB/s) - ‘car_fuel_efficiency.csv’ saved [874188/874188]\n",
      "\n"
     ]
    }
   ],
   "source": [
    "!wget https://raw.githubusercontent.com/alexeygrigorev/datasets/master/car_fuel_efficiency.csv"
   ]
  },
  {
   "cell_type": "code",
   "execution_count": 7,
   "id": "87d3b8e6-3b03-4e77-ac3f-42d405429095",
   "metadata": {},
   "outputs": [
    {
     "name": "stdout",
     "output_type": "stream",
     "text": [
      "Untitled.ipynb          car_fuel_efficiency.csv homework.md\n"
     ]
    }
   ],
   "source": [
    "!ls"
   ]
  },
  {
   "cell_type": "code",
   "execution_count": 64,
   "id": "87fca4cc-9156-4c96-82fd-decc6c8377de",
   "metadata": {},
   "outputs": [],
   "source": [
    "df = pd.read_csv('car_fuel_efficiency.csv')"
   ]
  },
  {
   "cell_type": "code",
   "execution_count": 65,
   "id": "952f5098-d11d-42fc-95aa-29617d6b3d49",
   "metadata": {},
   "outputs": [
    {
     "data": {
      "text/plain": [
       "(9704, 11)"
      ]
     },
     "execution_count": 65,
     "metadata": {},
     "output_type": "execute_result"
    }
   ],
   "source": [
    "df.shape"
   ]
  },
  {
   "cell_type": "markdown",
   "id": "a5dceb3a-4dbf-49fb-84d0-baace61c9d60",
   "metadata": {},
   "source": [
    "answer: 9704"
   ]
  },
  {
   "cell_type": "markdown",
   "id": "a159ff6c-5935-4c2f-baf9-606b98402390",
   "metadata": {},
   "source": [
    "## Q3. Fuel types\n",
    "\n",
    "How many fuel types are presented in the dataset?\n",
    "\n",
    "- 1\n",
    "- 2\n",
    "- 3\n",
    "- 4"
   ]
  },
  {
   "cell_type": "code",
   "execution_count": 66,
   "id": "10207b11-2ed8-4984-9889-01007f0f90a0",
   "metadata": {},
   "outputs": [
    {
     "data": {
      "text/plain": [
       "Index(['engine_displacement', 'num_cylinders', 'horsepower', 'vehicle_weight',\n",
       "       'acceleration', 'model_year', 'origin', 'fuel_type', 'drivetrain',\n",
       "       'num_doors', 'fuel_efficiency_mpg'],\n",
       "      dtype='object')"
      ]
     },
     "execution_count": 66,
     "metadata": {},
     "output_type": "execute_result"
    }
   ],
   "source": [
    "df.columns"
   ]
  },
  {
   "cell_type": "code",
   "execution_count": 67,
   "id": "fb2ffe28-fd61-45f6-a259-f1ac3a6e87fc",
   "metadata": {},
   "outputs": [
    {
     "data": {
      "text/plain": [
       "fuel_type\n",
       "Gasoline    4898\n",
       "Diesel      4806\n",
       "Name: count, dtype: int64"
      ]
     },
     "execution_count": 67,
     "metadata": {},
     "output_type": "execute_result"
    }
   ],
   "source": [
    "df.fuel_type.value_counts()"
   ]
  },
  {
   "cell_type": "code",
   "execution_count": 68,
   "id": "03704067-0c38-4ca3-96e0-eeea0b0dd7ea",
   "metadata": {},
   "outputs": [
    {
     "data": {
      "text/plain": [
       "2"
      ]
     },
     "execution_count": 68,
     "metadata": {},
     "output_type": "execute_result"
    }
   ],
   "source": [
    "df.fuel_type.nunique()"
   ]
  },
  {
   "cell_type": "markdown",
   "id": "c5f93ecc-b836-47b0-ad5d-ce4592f38b52",
   "metadata": {},
   "source": [
    "answer: 2"
   ]
  },
  {
   "cell_type": "markdown",
   "id": "6923dbe8-71c8-49ac-83ff-69c42a232749",
   "metadata": {},
   "source": [
    "## Q4. Missing values\n",
    "\n",
    "How many columns in the dataset have missing values?\n",
    "\n",
    "- 0\n",
    "- 1\n",
    "- 2\n",
    "- 3\n",
    "- 4"
   ]
  },
  {
   "cell_type": "code",
   "execution_count": 69,
   "id": "e5ed6be0-e9fd-443e-9e0e-04330f8af7dc",
   "metadata": {},
   "outputs": [
    {
     "data": {
      "text/plain": [
       "np.int64(4)"
      ]
     },
     "execution_count": 69,
     "metadata": {},
     "output_type": "execute_result"
    }
   ],
   "source": [
    "(df.isnull().sum() > 0).sum()"
   ]
  },
  {
   "cell_type": "code",
   "execution_count": 70,
   "id": "8803fd77-5fcf-4c36-85c6-b831326f15c4",
   "metadata": {},
   "outputs": [
    {
     "data": {
      "text/plain": [
       "np.int64(4)"
      ]
     },
     "execution_count": 70,
     "metadata": {},
     "output_type": "execute_result"
    }
   ],
   "source": [
    "df.isnull().any().sum()"
   ]
  },
  {
   "cell_type": "markdown",
   "id": "b9048baf-34a8-443d-86fa-267f53037c01",
   "metadata": {},
   "source": [
    "answer: 4"
   ]
  },
  {
   "cell_type": "markdown",
   "id": "d4ba15d5-d6a8-4b8f-a4b8-6ee2571c5208",
   "metadata": {},
   "source": [
    "## Q5. Max fuel efficiency\n",
    "\n",
    "What's the maximum fuel efficiency of cars from Asia?\n",
    "\n",
    "- 13.75\n",
    "- 23.75\n",
    "- 33.75\n",
    "- 43.75"
   ]
  },
  {
   "cell_type": "code",
   "execution_count": 71,
   "id": "25591258-420b-48c1-900a-759b09b3fa50",
   "metadata": {},
   "outputs": [],
   "source": [
    "df_asia = df[df.origin == 'Asia']"
   ]
  },
  {
   "cell_type": "code",
   "execution_count": 72,
   "id": "7182f4b7-497d-419a-b642-a8c390d9d8cc",
   "metadata": {},
   "outputs": [
    {
     "data": {
      "text/plain": [
       "9387    23.759123\n",
       "343     23.204566\n",
       "7739    23.033673\n",
       "9401    22.919968\n",
       "5416    22.858156\n",
       "          ...    \n",
       "2890     7.485553\n",
       "9120     7.329314\n",
       "6581     7.317353\n",
       "3891     6.939508\n",
       "1095     6.886245\n",
       "Name: fuel_efficiency_mpg, Length: 3247, dtype: float64"
      ]
     },
     "execution_count": 72,
     "metadata": {},
     "output_type": "execute_result"
    }
   ],
   "source": [
    "df_asia.fuel_efficiency_mpg.sort_values(ascending=False)"
   ]
  },
  {
   "cell_type": "code",
   "execution_count": 73,
   "id": "6491ad16-8c3e-4979-9651-710f0de70637",
   "metadata": {},
   "outputs": [
    {
     "data": {
      "text/plain": [
       "23.759122836520497"
      ]
     },
     "execution_count": 73,
     "metadata": {},
     "output_type": "execute_result"
    }
   ],
   "source": [
    "df_asia.fuel_efficiency_mpg.max()\n"
   ]
  },
  {
   "cell_type": "markdown",
   "id": "730cc3cd-6f48-4239-9011-6375b52c4739",
   "metadata": {},
   "source": [
    "answer: 23.75"
   ]
  },
  {
   "cell_type": "markdown",
   "id": "52ea1eeb-eb36-4346-b462-fda49e5d1b6b",
   "metadata": {},
   "source": [
    "# Q6. Median value of horsepower\n",
    "\n",
    "1. Find the median value of the `horsepower` column in the dataset.\n",
    "2. Next, calculate the most frequent value of the same `horsepower` column.\n",
    "3. Use the `fillna` method to fill the missing values in the `horsepower` column with the most frequent value from the previous step.\n",
    "4. Now, calculate the median value of `horsepower` once again.\n",
    "\n",
    "Has it changed?\n",
    "\n",
    "\n",
    "- Yes, it increased\n",
    "- Yes, it decreased\n",
    "- No"
   ]
  },
  {
   "cell_type": "code",
   "execution_count": 74,
   "id": "998ba745-605a-4f9f-b7be-9c68eb715f4e",
   "metadata": {},
   "outputs": [],
   "source": [
    "median_hp = df.horsepower.median()"
   ]
  },
  {
   "cell_type": "code",
   "execution_count": 75,
   "id": "75904ca6-746b-4ed9-9110-5aa2ea176945",
   "metadata": {},
   "outputs": [],
   "source": [
    "mode_hp = df.horsepower.mode()[0]"
   ]
  },
  {
   "cell_type": "code",
   "execution_count": 76,
   "id": "a18d19f3-5b98-41a9-9d64-253d2f705d0f",
   "metadata": {},
   "outputs": [
    {
     "data": {
      "text/plain": [
       "np.float64(152.0)"
      ]
     },
     "execution_count": 76,
     "metadata": {},
     "output_type": "execute_result"
    }
   ],
   "source": [
    "mode_hp"
   ]
  },
  {
   "cell_type": "code",
   "execution_count": 77,
   "id": "138a4acf-46f7-431d-8ec1-8ccd19a0c793",
   "metadata": {},
   "outputs": [
    {
     "data": {
      "text/plain": [
       "149.0"
      ]
     },
     "execution_count": 77,
     "metadata": {},
     "output_type": "execute_result"
    }
   ],
   "source": [
    "median_hp"
   ]
  },
  {
   "cell_type": "code",
   "execution_count": 78,
   "id": "fbfee837-b956-4dc8-a504-b586abe53061",
   "metadata": {},
   "outputs": [
    {
     "data": {
      "text/plain": [
       "np.int64(708)"
      ]
     },
     "execution_count": 78,
     "metadata": {},
     "output_type": "execute_result"
    }
   ],
   "source": [
    "df['horsepower'].isna().sum()"
   ]
  },
  {
   "cell_type": "code",
   "execution_count": 79,
   "id": "8e2ccc75-cfa1-470c-8aa0-c8766188f84a",
   "metadata": {},
   "outputs": [],
   "source": [
    "df['horsepower'] = df['horsepower'].fillna(mode_hp)"
   ]
  },
  {
   "cell_type": "code",
   "execution_count": 80,
   "id": "50e58de2-0e4b-4616-8073-9e5db9416ae2",
   "metadata": {},
   "outputs": [
    {
     "data": {
      "text/plain": [
       "np.int64(0)"
      ]
     },
     "execution_count": 80,
     "metadata": {},
     "output_type": "execute_result"
    }
   ],
   "source": [
    "df['horsepower'].isna().sum()"
   ]
  },
  {
   "cell_type": "code",
   "execution_count": 81,
   "id": "ffe655b1-d28d-44e7-b032-e22ff175fd25",
   "metadata": {},
   "outputs": [
    {
     "data": {
      "text/plain": [
       "152.0"
      ]
     },
     "execution_count": 81,
     "metadata": {},
     "output_type": "execute_result"
    }
   ],
   "source": [
    "updated_median_hp = df.horsepower.median()\n",
    "updated_median_hp"
   ]
  },
  {
   "cell_type": "code",
   "execution_count": 84,
   "id": "a06555d8-c07c-4355-a03e-2d906635e7b4",
   "metadata": {},
   "outputs": [
    {
     "data": {
      "text/plain": [
       "149.0"
      ]
     },
     "execution_count": 84,
     "metadata": {},
     "output_type": "execute_result"
    }
   ],
   "source": [
    "median_hp"
   ]
  },
  {
   "cell_type": "code",
   "execution_count": 83,
   "id": "e9277611-23de-4139-b617-68307dcfd345",
   "metadata": {},
   "outputs": [
    {
     "data": {
      "text/plain": [
       "152.0"
      ]
     },
     "execution_count": 83,
     "metadata": {},
     "output_type": "execute_result"
    }
   ],
   "source": [
    "df.horsepower.median()"
   ]
  },
  {
   "cell_type": "markdown",
   "id": "ccf79913-3d60-4c18-9852-3670c738fa3d",
   "metadata": {},
   "source": [
    "answer: Yes, it increased"
   ]
  },
  {
   "cell_type": "markdown",
   "id": "aacea073-cf38-4c04-bc18-40a092e82534",
   "metadata": {},
   "source": [
    "## Q7. Sum of weights\n",
    "\n",
    "1. Select all the cars from Asia\n",
    "2. Select only columns `vehicle_weight` and `model_year`\n",
    "3. Select the first 7 values\n",
    "4. Get the underlying NumPy array. Let's call it `X`.\n",
    "5. Compute matrix-matrix multiplication between the transpose of `X` and `X`. To get the transpose, use `X.T`. Let's call the result `XTX`.\n",
    "6. Invert `XTX`.\n",
    "7. Create an array `y` with values `[1100, 1300, 800, 900, 1000, 1100, 1200]`.\n",
    "8. Multiply the inverse of `XTX` with the transpose of `X`, and then multiply the result by `y`. Call the result `w`.\n",
    "9. What's the sum of all the elements of the result?\n",
    "\n",
    "> **Note**: You just implemented linear regression. We'll talk about it in the next lesson.\n",
    "\n",
    "- 0.051\n",
    "- 0.51\n",
    "- 5.1\n",
    "- 51"
   ]
  },
  {
   "cell_type": "code",
   "execution_count": 108,
   "id": "65c5ac79-fb62-40b1-8a73-48bad915ae3a",
   "metadata": {},
   "outputs": [
    {
     "data": {
      "text/plain": [
       "array([[2714.21930965, 2016.        ],\n",
       "       [2783.86897424, 2010.        ],\n",
       "       [3582.68736772, 2007.        ],\n",
       "       [2231.8081416 , 2011.        ],\n",
       "       [2659.43145076, 2016.        ],\n",
       "       [2844.22753389, 2014.        ],\n",
       "       [3761.99403819, 2019.        ]])"
      ]
     },
     "execution_count": 108,
     "metadata": {},
     "output_type": "execute_result"
    }
   ],
   "source": [
    "X = np.array(df_asia[['vehicle_weight', 'model_year']][:7])\n",
    "X"
   ]
  },
  {
   "cell_type": "code",
   "execution_count": 109,
   "id": "96164a93-20d3-4ad1-b95c-8e22d8f34909",
   "metadata": {},
   "outputs": [
    {
     "data": {
      "text/plain": [
       "array([[62248334.33150762, 41431216.5073268 ],\n",
       "       [41431216.5073268 , 28373339.        ]])"
      ]
     },
     "execution_count": 109,
     "metadata": {},
     "output_type": "execute_result"
    }
   ],
   "source": [
    "XTX = np.dot(X.T, X)\n",
    "XTX"
   ]
  },
  {
   "cell_type": "code",
   "execution_count": 110,
   "id": "66ebe1c5-01df-45b9-ac07-4d72a08456b3",
   "metadata": {},
   "outputs": [
    {
     "data": {
      "text/plain": [
       "array([[ 5.71497081e-07, -8.34509443e-07],\n",
       "       [-8.34509443e-07,  1.25380877e-06]])"
      ]
     },
     "execution_count": 110,
     "metadata": {},
     "output_type": "execute_result"
    }
   ],
   "source": [
    "XTX_inv = np.linalg.inv(XTX)\n",
    "XTX_inv"
   ]
  },
  {
   "cell_type": "code",
   "execution_count": 111,
   "id": "272cf30d-a869-41b6-a8eb-4e73de5e06e3",
   "metadata": {},
   "outputs": [
    {
     "data": {
      "text/plain": [
       "array([1100, 1300,  800,  900, 1000, 1100, 1200])"
      ]
     },
     "execution_count": 111,
     "metadata": {},
     "output_type": "execute_result"
    }
   ],
   "source": [
    "y = np.array([1100, 1300, 800, 900, 1000, 1100, 1200])\n",
    "y"
   ]
  },
  {
   "cell_type": "code",
   "execution_count": 112,
   "id": "00221d60-4e64-4805-b918-e96041101a9f",
   "metadata": {},
   "outputs": [
    {
     "data": {
      "text/plain": [
       "array([0.01386421, 0.5049067 ])"
      ]
     },
     "execution_count": 112,
     "metadata": {},
     "output_type": "execute_result"
    }
   ],
   "source": [
    "#Multiply the inverse of `XTX` with the transpose of `X`, and then multiply the result by `y`. Call the result `w`.\n",
    "\n",
    "w = np.dot(np.dot(XTX_inv, X.T), y)\n",
    "w"
   ]
  },
  {
   "cell_type": "markdown",
   "id": "a8f985c3-694e-4ca7-852d-300c6907a16c",
   "metadata": {},
   "source": [
    "answer: 0.51"
   ]
  },
  {
   "cell_type": "code",
   "execution_count": null,
   "id": "f49da0ea-debe-4938-aaea-914d8ef8cd6d",
   "metadata": {},
   "outputs": [],
   "source": []
  }
 ],
 "metadata": {
  "kernelspec": {
   "display_name": "Python 3 (ipykernel)",
   "language": "python",
   "name": "python3"
  },
  "language_info": {
   "codemirror_mode": {
    "name": "ipython",
    "version": 3
   },
   "file_extension": ".py",
   "mimetype": "text/x-python",
   "name": "python",
   "nbconvert_exporter": "python",
   "pygments_lexer": "ipython3",
   "version": "3.11.13"
  }
 },
 "nbformat": 4,
 "nbformat_minor": 5
}
